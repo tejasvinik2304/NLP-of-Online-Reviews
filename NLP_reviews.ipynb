{
 "cells": [
  {
   "cell_type": "markdown",
   "metadata": {
    "colab_type": "text",
    "id": "DHuEhC1e43Ah"
   },
   "source": [
    "# BAX 453 Team Assignment - Sentiment Analysis"
   ]
  },
  {
   "cell_type": "code",
   "execution_count": null,
   "metadata": {
    "colab": {},
    "colab_type": "code",
    "id": "16XS6YxD43Am",
    "outputId": "fea872e9-314f-42ad-c4de-cd0225c6d172",
    "scrolled": true
   },
   "outputs": [],
   "source": [
    "pip install ijson"
   ]
  },
  {
   "cell_type": "code",
   "execution_count": null,
   "metadata": {
    "colab": {},
    "colab_type": "code",
    "id": "ijXuvFri43Ay",
    "outputId": "ccc4a349-fc94-48b0-f28d-f410544ada02"
   },
   "outputs": [],
   "source": [
    "pip install sklearn"
   ]
  },
  {
   "cell_type": "code",
   "execution_count": null,
   "metadata": {
    "colab": {},
    "colab_type": "code",
    "id": "iCHK4vhY43A6",
    "outputId": "509ebdd3-f641-4462-9d7a-766776eff693"
   },
   "outputs": [],
   "source": [
    "pip install nltk"
   ]
  },
  {
   "cell_type": "code",
   "execution_count": null,
   "metadata": {
    "colab": {},
    "colab_type": "code",
    "id": "XDHj7FAl43BL",
    "outputId": "9d741468-8809-4179-bc98-f7b02cb131a7"
   },
   "outputs": [],
   "source": [
    "pip install imblearn"
   ]
  },
  {
   "cell_type": "code",
   "execution_count": 30,
   "metadata": {
    "colab": {},
    "colab_type": "code",
    "id": "d1jheAyZ43BT"
   },
   "outputs": [],
   "source": [
    "import io\n",
    "import ijson\n",
    "import pandas as pd\n",
    "import datetime\n",
    "import numpy as np\n",
    "\n",
    "from sklearn.model_selection import train_test_split\n",
    "from sklearn.feature_extraction.text import CountVectorizer\n",
    "from nltk.tokenize import RegexpTokenizer\n",
    "from sklearn.feature_extraction.text import TfidfVectorizer\n",
    "from nltk.util import ngrams\n",
    "import re\n",
    "\n",
    "from sklearn.linear_model import LogisticRegression\n",
    "from sklearn import svm\n",
    "from sklearn.ensemble import RandomForestClassifier\n",
    "import time\n",
    "from sklearn.metrics import classification_report, confusion_matrix ,roc_auc_score,roc_curve,auc\n",
    "\n",
    "from sklearn.model_selection import GridSearchCV\n",
    "import matplotlib.pyplot as plt"
   ]
  },
  {
   "cell_type": "markdown",
   "metadata": {
    "colab_type": "text",
    "id": "nEXZSDyp43Ba"
   },
   "source": [
    "# 1. Data Ingestion & Processing"
   ]
  },
  {
   "cell_type": "markdown",
   "metadata": {
    "colab_type": "text",
    "id": "xYcZmB9843Bc"
   },
   "source": [
    "## 1.1 Ingest the json review data and convert into a pandas dataframe"
   ]
  },
  {
   "cell_type": "code",
   "execution_count": 2,
   "metadata": {
    "colab": {},
    "colab_type": "code",
    "id": "ijRAYqJq43Bd"
   },
   "outputs": [],
   "source": [
    "cols = [\"reviewerID\", \"asin\", \"reviewerName\", \"helpful_start\",\n",
    "        \"helpful_end\", \"reviewText\", \"overall\", \"summary\",\n",
    "        \"unixReviewTime\", \"reviewTime\"]\n",
    "\n",
    "reviewerID = []\n",
    "asin = []\n",
    "reviewerName = []\n",
    "helpful_start = []\n",
    "helpful_end = []\n",
    "reviewText = []\n",
    "overall = []\n",
    "summary = []\n",
    "unixReviewTime = []\n",
    "reviewTime = []\n",
    "helpful = []\n",
    "\n",
    "# function to read the review file\n",
    "with open('Health_and_Personal_Care_5.json', encoding=\"UTF-8\") as json_file:\n",
    "    cursor = 0\n",
    "    for line_number, line in enumerate(json_file):\n",
    "        #print (\"Processing line\", line_number + 1,\"at cursor index:\", cursor)\n",
    "        line_as_file = io.StringIO(line)\n",
    "        # Use a new parser for each line\n",
    "        json_parser = ijson.parse(line_as_file)\n",
    "        for prefix, type, value in json_parser:\n",
    "            if (type == 'string') | (type == 'number'):\n",
    "                if prefix.strip() == 'reviewerID':\n",
    "                    reviewerID.append(value)\n",
    "                    #print(value)\n",
    "                elif prefix.strip() == 'asin':\n",
    "                    asin.append(value)\n",
    "                elif prefix.strip() == 'reviewerName':\n",
    "                    reviewerName.append(value)\n",
    "                elif prefix.strip() == 'helpful.item':\n",
    "                    helpful.append(value)\n",
    "                elif prefix.strip() == 'reviewText':\n",
    "                    reviewText.append(value)\n",
    "                elif prefix.strip() == 'overall':\n",
    "                    overall.append(value)\n",
    "                elif prefix.strip() == 'summary':\n",
    "                    summary.append(value)\n",
    "                elif prefix.strip() == 'unixReviewTime':\n",
    "                    unixReviewTime.append(value)\n",
    "                elif prefix.strip() == 'reviewTime':\n",
    "                    reviewTime.append(value)\n",
    "        cursor += len(line)\n",
    "\n",
    "       \n",
    "helpful_start = [helpful[i] for i in range(len(helpful)) if i%2 == 0]\n",
    "helpful_end = [helpful[i] for i in range(len(helpful)) if i%2 == 1]\n",
    "\n",
    "review = pd.DataFrame(list(zip(reviewerID, asin, reviewerName, helpful_start, helpful_end,\n",
    "                           reviewText, overall, summary, unixReviewTime, reviewTime)),\n",
    "               columns =cols)"
   ]
  },
  {
   "cell_type": "markdown",
   "metadata": {
    "colab_type": "text",
    "id": "ibAFLxq143Bl"
   },
   "source": [
    "## 1.2 Inspect the data"
   ]
  },
  {
   "cell_type": "code",
   "execution_count": 3,
   "metadata": {
    "colab": {},
    "colab_type": "code",
    "id": "VlTAvYWm43Bm",
    "outputId": "b4258d9f-d776-4340-88bd-e787c5e80c85"
   },
   "outputs": [
    {
     "name": "stdout",
     "output_type": "stream",
     "text": [
      "<class 'pandas.core.frame.DataFrame'>\n",
      "RangeIndex: 343304 entries, 0 to 343303\n",
      "Data columns (total 10 columns):\n",
      "reviewerID        343304 non-null object\n",
      "asin              343304 non-null object\n",
      "reviewerName      343304 non-null object\n",
      "helpful_start     343304 non-null int64\n",
      "helpful_end       343304 non-null int64\n",
      "reviewText        343304 non-null object\n",
      "overall           343304 non-null object\n",
      "summary           343304 non-null object\n",
      "unixReviewTime    343304 non-null int64\n",
      "reviewTime        343304 non-null object\n",
      "dtypes: int64(3), object(7)\n",
      "memory usage: 26.2+ MB\n"
     ]
    }
   ],
   "source": [
    "review.info()"
   ]
  },
  {
   "cell_type": "markdown",
   "metadata": {
    "colab_type": "text",
    "id": "fi21U0Jo43Bt"
   },
   "source": [
    "There are 343304 reviews with 10 attributes"
   ]
  },
  {
   "cell_type": "code",
   "execution_count": 4,
   "metadata": {
    "colab": {},
    "colab_type": "code",
    "id": "BC4xK48B43Bv",
    "outputId": "b3298264-0641-4cb9-b66c-e50fad78cdce"
   },
   "outputs": [
    {
     "data": {
      "text/plain": [
       "(343304, 10)"
      ]
     },
     "execution_count": 4,
     "metadata": {},
     "output_type": "execute_result"
    }
   ],
   "source": [
    "review.shape"
   ]
  },
  {
   "cell_type": "code",
   "execution_count": 5,
   "metadata": {
    "colab": {},
    "colab_type": "code",
    "id": "pabu8mE843B2",
    "outputId": "65a248a2-8d7b-48b7-a887-2f6000ff15ca"
   },
   "outputs": [
    {
     "data": {
      "text/html": [
       "<div>\n",
       "<style scoped>\n",
       "    .dataframe tbody tr th:only-of-type {\n",
       "        vertical-align: middle;\n",
       "    }\n",
       "\n",
       "    .dataframe tbody tr th {\n",
       "        vertical-align: top;\n",
       "    }\n",
       "\n",
       "    .dataframe thead th {\n",
       "        text-align: right;\n",
       "    }\n",
       "</style>\n",
       "<table border=\"1\" class=\"dataframe\">\n",
       "  <thead>\n",
       "    <tr style=\"text-align: right;\">\n",
       "      <th></th>\n",
       "      <th>reviewerID</th>\n",
       "      <th>asin</th>\n",
       "      <th>reviewerName</th>\n",
       "      <th>helpful_start</th>\n",
       "      <th>helpful_end</th>\n",
       "      <th>reviewText</th>\n",
       "      <th>overall</th>\n",
       "      <th>summary</th>\n",
       "      <th>unixReviewTime</th>\n",
       "      <th>reviewTime</th>\n",
       "    </tr>\n",
       "  </thead>\n",
       "  <tbody>\n",
       "    <tr>\n",
       "      <td>0</td>\n",
       "      <td>ALC5GH8CAMAI7</td>\n",
       "      <td>159985130X</td>\n",
       "      <td>AnnN</td>\n",
       "      <td>1</td>\n",
       "      <td>1</td>\n",
       "      <td>This is a great little gadget to have around. ...</td>\n",
       "      <td>5.0</td>\n",
       "      <td>Handy little gadget</td>\n",
       "      <td>1294185600</td>\n",
       "      <td>01 5, 2011</td>\n",
       "    </tr>\n",
       "    <tr>\n",
       "      <td>1</td>\n",
       "      <td>AHKSURW85PJUE</td>\n",
       "      <td>159985130X</td>\n",
       "      <td>AZ buyer \"AZ buyer\"</td>\n",
       "      <td>1</td>\n",
       "      <td>1</td>\n",
       "      <td>I would recommend this for a travel magnifier ...</td>\n",
       "      <td>4.0</td>\n",
       "      <td>Small &amp; may need to encourage battery</td>\n",
       "      <td>1329523200</td>\n",
       "      <td>02 18, 2012</td>\n",
       "    </tr>\n",
       "    <tr>\n",
       "      <td>2</td>\n",
       "      <td>A38RMU1Y5TDP9</td>\n",
       "      <td>159985130X</td>\n",
       "      <td>Bob Tobias \"Robert Tobias\"</td>\n",
       "      <td>75</td>\n",
       "      <td>77</td>\n",
       "      <td>What I liked was the quality of the lens and t...</td>\n",
       "      <td>4.0</td>\n",
       "      <td>Very good but not great</td>\n",
       "      <td>1275955200</td>\n",
       "      <td>06 8, 2010</td>\n",
       "    </tr>\n",
       "    <tr>\n",
       "      <td>3</td>\n",
       "      <td>A1XZUG7DFXXOS4</td>\n",
       "      <td>159985130X</td>\n",
       "      <td>Cat lover</td>\n",
       "      <td>56</td>\n",
       "      <td>60</td>\n",
       "      <td>Love the Great point light pocket magnifier!  ...</td>\n",
       "      <td>4.0</td>\n",
       "      <td>great addition to your purse</td>\n",
       "      <td>1202428800</td>\n",
       "      <td>02 8, 2008</td>\n",
       "    </tr>\n",
       "    <tr>\n",
       "      <td>4</td>\n",
       "      <td>A1MS3M7M7AM13X</td>\n",
       "      <td>159985130X</td>\n",
       "      <td>Cricketoes</td>\n",
       "      <td>1</td>\n",
       "      <td>1</td>\n",
       "      <td>This is very nice. You pull out on the magnifi...</td>\n",
       "      <td>5.0</td>\n",
       "      <td>Very nice and convenient.</td>\n",
       "      <td>1313452800</td>\n",
       "      <td>08 16, 2011</td>\n",
       "    </tr>\n",
       "  </tbody>\n",
       "</table>\n",
       "</div>"
      ],
      "text/plain": [
       "       reviewerID        asin                reviewerName  helpful_start  \\\n",
       "0   ALC5GH8CAMAI7  159985130X                        AnnN              1   \n",
       "1   AHKSURW85PJUE  159985130X         AZ buyer \"AZ buyer\"              1   \n",
       "2   A38RMU1Y5TDP9  159985130X  Bob Tobias \"Robert Tobias\"             75   \n",
       "3  A1XZUG7DFXXOS4  159985130X                   Cat lover             56   \n",
       "4  A1MS3M7M7AM13X  159985130X                  Cricketoes              1   \n",
       "\n",
       "   helpful_end                                         reviewText overall  \\\n",
       "0            1  This is a great little gadget to have around. ...     5.0   \n",
       "1            1  I would recommend this for a travel magnifier ...     4.0   \n",
       "2           77  What I liked was the quality of the lens and t...     4.0   \n",
       "3           60  Love the Great point light pocket magnifier!  ...     4.0   \n",
       "4            1  This is very nice. You pull out on the magnifi...     5.0   \n",
       "\n",
       "                                 summary  unixReviewTime   reviewTime  \n",
       "0                    Handy little gadget      1294185600   01 5, 2011  \n",
       "1  Small & may need to encourage battery      1329523200  02 18, 2012  \n",
       "2                Very good but not great      1275955200   06 8, 2010  \n",
       "3           great addition to your purse      1202428800   02 8, 2008  \n",
       "4              Very nice and convenient.      1313452800  08 16, 2011  "
      ]
     },
     "execution_count": 5,
     "metadata": {},
     "output_type": "execute_result"
    }
   ],
   "source": [
    "review.head()"
   ]
  },
  {
   "cell_type": "markdown",
   "metadata": {
    "colab_type": "text",
    "id": "XVBEMa9R43B8"
   },
   "source": [
    "## 1.3 Create sentiment label based on the 'overall' star rating"
   ]
  },
  {
   "cell_type": "code",
   "execution_count": 6,
   "metadata": {
    "colab": {},
    "colab_type": "code",
    "id": "8LNIt3tv43B-"
   },
   "outputs": [],
   "source": [
    "## Create column 'sentiment' based on 'overall' review score\n",
    "review['sentiment'] = np.where(review.overall > 3.0, 1, 0)\n",
    "review = review[review['overall']!=3.0]"
   ]
  },
  {
   "cell_type": "code",
   "execution_count": 7,
   "metadata": {
    "colab": {},
    "colab_type": "code",
    "id": "4EKnmgqx43CE",
    "outputId": "aa340577-eff6-49bb-e97f-2b0dddca598e"
   },
   "outputs": [
    {
     "data": {
      "text/plain": [
       "(276941, 11)"
      ]
     },
     "execution_count": 7,
     "metadata": {},
     "output_type": "execute_result"
    }
   ],
   "source": [
    "review[review['sentiment']==1].shape"
   ]
  },
  {
   "cell_type": "code",
   "execution_count": 8,
   "metadata": {
    "colab": {},
    "colab_type": "code",
    "id": "KBIQj_q243CL",
    "outputId": "f38e7ced-6df2-43a6-e012-2b830d1f0ca8"
   },
   "outputs": [
    {
     "data": {
      "text/plain": [
       "(33214, 11)"
      ]
     },
     "execution_count": 8,
     "metadata": {},
     "output_type": "execute_result"
    }
   ],
   "source": [
    "review[review['sentiment']==0].shape"
   ]
  },
  {
   "cell_type": "markdown",
   "metadata": {
    "colab_type": "text",
    "id": "WRtvI6rf43CR"
   },
   "source": [
    "## 1.4 Adress the data imbalance issue (Far more positive than negative sentiments)"
   ]
  },
  {
   "cell_type": "code",
   "execution_count": 9,
   "metadata": {
    "colab": {},
    "colab_type": "code",
    "id": "rFoh_km743CS",
    "outputId": "41a25a51-6be3-4f40-bd9e-e180b9bcbb49"
   },
   "outputs": [
    {
     "name": "stdout",
     "output_type": "stream",
     "text": [
      "Positive 276941 => 33214 Negative 33214 => 33214\n"
     ]
    },
    {
     "data": {
      "text/html": [
       "<div>\n",
       "<style scoped>\n",
       "    .dataframe tbody tr th:only-of-type {\n",
       "        vertical-align: middle;\n",
       "    }\n",
       "\n",
       "    .dataframe tbody tr th {\n",
       "        vertical-align: top;\n",
       "    }\n",
       "\n",
       "    .dataframe thead th {\n",
       "        text-align: right;\n",
       "    }\n",
       "</style>\n",
       "<table border=\"1\" class=\"dataframe\">\n",
       "  <thead>\n",
       "    <tr style=\"text-align: right;\">\n",
       "      <th></th>\n",
       "      <th>reviewText</th>\n",
       "      <th>sentiment</th>\n",
       "    </tr>\n",
       "  </thead>\n",
       "  <tbody>\n",
       "    <tr>\n",
       "      <td>0</td>\n",
       "      <td>&amp;#34;24/7&amp;#34; is a gross exaggeration. You're...</td>\n",
       "      <td>0</td>\n",
       "    </tr>\n",
       "    <tr>\n",
       "      <td>1</td>\n",
       "      <td>I received one bar of his awful tasting mess. ...</td>\n",
       "      <td>0</td>\n",
       "    </tr>\n",
       "    <tr>\n",
       "      <td>2</td>\n",
       "      <td>When you need a quick load-up on Vitamin C, E,...</td>\n",
       "      <td>1</td>\n",
       "    </tr>\n",
       "    <tr>\n",
       "      <td>3</td>\n",
       "      <td>This razor should easily last a life time and ...</td>\n",
       "      <td>1</td>\n",
       "    </tr>\n",
       "    <tr>\n",
       "      <td>4</td>\n",
       "      <td>I have been using Sonicare electric toothbrush...</td>\n",
       "      <td>0</td>\n",
       "    </tr>\n",
       "    <tr>\n",
       "      <td>5</td>\n",
       "      <td>Best trimmers ever.</td>\n",
       "      <td>1</td>\n",
       "    </tr>\n",
       "    <tr>\n",
       "      <td>6</td>\n",
       "      <td>I have sensitive skin, and always hesitate to ...</td>\n",
       "      <td>1</td>\n",
       "    </tr>\n",
       "    <tr>\n",
       "      <td>7</td>\n",
       "      <td>I bought the Steam-It to clean my wood floors....</td>\n",
       "      <td>0</td>\n",
       "    </tr>\n",
       "    <tr>\n",
       "      <td>8</td>\n",
       "      <td>I loved the Amazing grass in capsule form. It ...</td>\n",
       "      <td>0</td>\n",
       "    </tr>\n",
       "    <tr>\n",
       "      <td>9</td>\n",
       "      <td>These, they are great, soft is easy on my mout...</td>\n",
       "      <td>1</td>\n",
       "    </tr>\n",
       "  </tbody>\n",
       "</table>\n",
       "</div>"
      ],
      "text/plain": [
       "                                          reviewText  sentiment\n",
       "0  &#34;24/7&#34; is a gross exaggeration. You're...          0\n",
       "1  I received one bar of his awful tasting mess. ...          0\n",
       "2  When you need a quick load-up on Vitamin C, E,...          1\n",
       "3  This razor should easily last a life time and ...          1\n",
       "4  I have been using Sonicare electric toothbrush...          0\n",
       "5                                Best trimmers ever.          1\n",
       "6  I have sensitive skin, and always hesitate to ...          1\n",
       "7  I bought the Steam-It to clean my wood floors....          0\n",
       "8  I loved the Amazing grass in capsule form. It ...          0\n",
       "9  These, they are great, soft is easy on my mout...          1"
      ]
     },
     "execution_count": 9,
     "metadata": {},
     "output_type": "execute_result"
    }
   ],
   "source": [
    "balance = True\n",
    "if balance:\n",
    "    model_data = review[['reviewText','sentiment']]\n",
    "    data_pos = model_data[model_data['sentiment'] == 1]\n",
    "    data_neg = model_data[model_data['sentiment'] == 0]\n",
    "    n_pos = data_pos.shape[0]\n",
    "    n_neg = data_neg.shape[0]\n",
    "\n",
    "    data_pos_sub = data_pos.sample(n=n_neg, axis=0)\n",
    "    n_pos_sub = data_pos_sub.shape[0]\n",
    "    data_neg_sub = data_neg.sample(n=n_neg, axis=0)\n",
    "    n_neg_sub = data_neg_sub.shape[0]\n",
    "\n",
    "    model_data_bal = pd.concat([data_pos_sub, data_neg_sub], axis=0)\n",
    "    model_data_bal = model_data_bal.sample(frac=1).reset_index(drop=True)\n",
    "\n",
    "    print(\"Positive {} => {} Negative {} => {}\".format(n_pos, n_pos_sub, n_neg, n_neg_sub))\n",
    "\n",
    "    model_data = model_data_bal\n",
    "else:\n",
    "    print('Using all data.')\n",
    "    model_data = model_data\n",
    "\n",
    "model_data.head(10)"
   ]
  },
  {
   "cell_type": "markdown",
   "metadata": {
    "colab_type": "text",
    "id": "jFN-Tv1C43CZ"
   },
   "source": [
    "## 1.5 Only use 30% data for faster speed"
   ]
  },
  {
   "cell_type": "code",
   "execution_count": 10,
   "metadata": {
    "colab": {},
    "colab_type": "code",
    "id": "Ih_I6kDF43Ca"
   },
   "outputs": [],
   "source": [
    "model_data = model_data.sample(frac = 0.3)"
   ]
  },
  {
   "cell_type": "code",
   "execution_count": 11,
   "metadata": {
    "colab": {},
    "colab_type": "code",
    "id": "MP9w_QZ043Cg",
    "outputId": "a9fd5a01-72e7-49db-83ee-6e52e1f8332a"
   },
   "outputs": [
    {
     "data": {
      "text/plain": [
       "(19928, 2)"
      ]
     },
     "execution_count": 11,
     "metadata": {},
     "output_type": "execute_result"
    }
   ],
   "source": [
    "model_data.shape"
   ]
  },
  {
   "cell_type": "markdown",
   "metadata": {
    "colab_type": "text",
    "id": "U3pitgM_43Co"
   },
   "source": [
    "# 2. Apply various text representation techniques (Bag of Words, TF-IDF, n-Grams, etc.) for text vectorization"
   ]
  },
  {
   "cell_type": "markdown",
   "metadata": {
    "colab_type": "text",
    "id": "dJnQGzqx43Cq"
   },
   "source": [
    "## 2.1 Bag of Words"
   ]
  },
  {
   "cell_type": "code",
   "execution_count": 12,
   "metadata": {
    "colab": {},
    "colab_type": "code",
    "id": "8LaugLwW43Cq"
   },
   "outputs": [],
   "source": [
    "# tokenizer to remove unwanted elements from out data like symbols and numbers\n",
    "token = RegexpTokenizer(r'[a-zA-Z0-9]+')\n",
    "cv = CountVectorizer(lowercase=True,stop_words='english',ngram_range = (1,1),tokenizer = token.tokenize)\n",
    "X_bow = cv.fit_transform(model_data['reviewText'])"
   ]
  },
  {
   "cell_type": "code",
   "execution_count": 13,
   "metadata": {
    "colab": {},
    "colab_type": "code",
    "id": "nxxqTv6v43Ct"
   },
   "outputs": [],
   "source": [
    "train_X_bow, test_X_bow, train_y_bow, test_y_bow = train_test_split(\n",
    "    X_bow, model_data['sentiment'], test_size=0.3, random_state=1)"
   ]
  },
  {
   "cell_type": "markdown",
   "metadata": {
    "colab_type": "text",
    "id": "mT6KfCrR43Cv"
   },
   "source": [
    "## 2.2 TF-IDF"
   ]
  },
  {
   "cell_type": "code",
   "execution_count": 14,
   "metadata": {
    "colab": {},
    "colab_type": "code",
    "id": "NmjVSDZ343Cv"
   },
   "outputs": [],
   "source": [
    "train_X_tfidf, test_X_tfidf, train_y_tfidf, test_y_tfidf = train_test_split(model_data['reviewText'], model_data['sentiment'], test_size=0.25, random_state=27)"
   ]
  },
  {
   "cell_type": "code",
   "execution_count": 15,
   "metadata": {
    "colab": {},
    "colab_type": "code",
    "id": "f3QkkRw843Cx"
   },
   "outputs": [],
   "source": [
    "# Create feature vectors\n",
    "vectorizer = TfidfVectorizer(min_df = 5,\n",
    "                             max_df = 0.8,\n",
    "                             sublinear_tf = True,\n",
    "                             use_idf = True)\n",
    "train_X_tfidf = vectorizer.fit_transform(train_X_tfidf)\n",
    "test_X_tfidf = vectorizer.transform(test_X_tfidf)"
   ]
  },
  {
   "cell_type": "markdown",
   "metadata": {
    "colab_type": "text",
    "id": "DJdz-8O243C0"
   },
   "source": [
    "## 2.3 n-grams, n=2"
   ]
  },
  {
   "cell_type": "code",
   "execution_count": 16,
   "metadata": {
    "colab": {},
    "colab_type": "code",
    "id": "ayajljCI43C0"
   },
   "outputs": [],
   "source": [
    "# tokenizer to remove unwanted elements from out data like symbols and numbers\n",
    "token = RegexpTokenizer(r'[a-zA-Z0-9]+')\n",
    "cv = CountVectorizer(lowercase=True,stop_words='english',ngram_range = (2,2),tokenizer = token.tokenize)\n",
    "X_bigram = cv.fit_transform(model_data['reviewText'])"
   ]
  },
  {
   "cell_type": "code",
   "execution_count": 17,
   "metadata": {
    "colab": {},
    "colab_type": "code",
    "id": "HTsOv-GR43C3"
   },
   "outputs": [],
   "source": [
    "train_X_bigram, test_X_bigram, train_y_bigram, test_y_bigram = train_test_split(\n",
    "    X_bigram, model_data['sentiment'], test_size=0.3, random_state=1)"
   ]
  },
  {
   "cell_type": "markdown",
   "metadata": {
    "colab_type": "text",
    "id": "_Q5JO6CO43C5"
   },
   "source": [
    "# 3 Models"
   ]
  },
  {
   "cell_type": "markdown",
   "metadata": {},
   "source": [
    "## 3.0 Metrics"
   ]
  },
  {
   "cell_type": "code",
   "execution_count": 122,
   "metadata": {
    "colab": {},
    "colab_type": "code",
    "id": "yWd69xP_43C5"
   },
   "outputs": [],
   "source": [
    "def metrics(clf, train_X, test_X, train_y, test_y,title):\n",
    "\n",
    "    t0 = time.time()\n",
    "    clf = clf.fit(train_X, train_y)\n",
    "    t1 = time.time()\n",
    "    prediction = clf.predict(test_X)\n",
    "    t2 = time.time()\n",
    "    time_train = t1 - t0\n",
    "    time_test = t1 - t0\n",
    "\n",
    "    # results\n",
    "    print(\"Training time: %fs; Prediction time: %fs\" % (time_train, time_test))\n",
    "    print(classification_report(test_y, prediction))\n",
    "    \n",
    "    print(\"Confusion Matrix\")\n",
    "    confusion_matrix_= confusion_matrix(test_y, prediction)\n",
    "    print(confusion_matrix_)\n",
    "    \n",
    "    '''\n",
    "    Draw ROC curve\n",
    "    '''\n",
    "    false_positive_rate,true_positive_rate,thresholds = roc_curve(test_y, clf.predict_proba(test_X)[:,1])\n",
    "    roc_auc=auc(false_positive_rate, true_positive_rate)\n",
    "    plt.title(title)\n",
    "    plt.plot(false_positive_rate, true_positive_rate,'b',label='AUC = %0.2f'% roc_auc,color='orange')\n",
    "    plt.legend(loc='lower right')\n",
    "    plt.plot([0,1],[0,1],'r--')\n",
    "    plt.ylabel('TPR')\n",
    "    plt.xlabel('FPR')\n",
    "    plt.show()\n",
    "    plt.close(0) \n",
    "\n"
   ]
  },
  {
   "cell_type": "markdown",
   "metadata": {
    "colab_type": "text",
    "id": "SQ45yyUQ43C8"
   },
   "source": [
    "## 3.1 Logistic Regression"
   ]
  },
  {
   "cell_type": "code",
   "execution_count": 33,
   "metadata": {
    "colab": {},
    "colab_type": "code",
    "id": "u_wdQhR543C9"
   },
   "outputs": [],
   "source": [
    "logit_clf = LogisticRegression(random_state=0, max_iter = 500)"
   ]
  },
  {
   "cell_type": "markdown",
   "metadata": {
    "colab_type": "text",
    "id": "2LQlkt0J43DA"
   },
   "source": [
    "### 3.1.1 Logistic Regression with bag of words"
   ]
  },
  {
   "cell_type": "code",
   "execution_count": 124,
   "metadata": {
    "colab": {},
    "colab_type": "code",
    "id": "Qhlzk2Li43DB",
    "outputId": "24dacc7d-4de8-446e-c26f-dfed9dd03353"
   },
   "outputs": [
    {
     "name": "stdout",
     "output_type": "stream",
     "text": [
      "Training time: 1.225093s; Prediction time: 1.225093s\n",
      "              precision    recall  f1-score   support\n",
      "\n",
      "           0       0.81      0.81      0.81      2998\n",
      "           1       0.81      0.82      0.81      2981\n",
      "\n",
      "    accuracy                           0.81      5979\n",
      "   macro avg       0.81      0.81      0.81      5979\n",
      "weighted avg       0.81      0.81      0.81      5979\n",
      "\n",
      "Confusion Matrix\n",
      "[[2418  580]\n",
      " [ 550 2431]]\n"
     ]
    },
    {
     "data": {
      "image/png": "[encoded data removed]",
      "text/plain": [
       "<Figure size 432x288 with 1 Axes>"
      ]
     },
     "metadata": {
      "needs_background": "light"
     },
     "output_type": "display_data"
    }
   ],
   "source": [
    "metrics(logit_clf, train_X_bow, test_X_bow, train_y_bow, test_y_bow,\"Logistic Regression\")"
   ]
  },
  {
   "cell_type": "markdown",
   "metadata": {},
   "source": [
    "### 3.1.2 Logistic Regression with bag of words Gird search CV "
   ]
  },
  {
   "cell_type": "code",
   "execution_count": 26,
   "metadata": {},
   "outputs": [],
   "source": [
    "hyperparameters = dict(C = [1e-4, 1e-3, 1e-2, 1e-1, 1e0, 1e1, 1e2, 1e3, 1e4], \n",
    "                       penalty = ['l2','l1',None],\n",
    "                       solver = ['sag', 'saga','liblinear','newton-cg']\n",
    "                      )"
   ]
  },
  {
   "cell_type": "code",
   "execution_count": 27,
   "metadata": {},
   "outputs": [
    {
     "name": "stdout",
     "output_type": "stream",
     "text": [
      "Fitting 5 folds for each of 108 candidates, totalling 540 fits\n"
     ]
    },
    {
     "name": "stderr",
     "output_type": "stream",
     "text": [
      "[Parallel(n_jobs=-1)]: Using backend LokyBackend with 8 concurrent workers.\n",
      "[Parallel(n_jobs=-1)]: Done  34 tasks      | elapsed:    4.7s\n",
      "[Parallel(n_jobs=-1)]: Done 313 tasks      | elapsed:   57.8s\n",
      "[Parallel(n_jobs=-1)]: Done 540 out of 540 | elapsed: 11.1min finished\n"
     ]
    }
   ],
   "source": [
    "clf_log_gscv = GridSearchCV(logit_clf, hyperparameters, cv=5, verbose=True, n_jobs=-1)\n",
    "clf_log = clf_log_gscv.fit(train_X_bow,train_y_bow)"
   ]
  },
  {
   "cell_type": "code",
   "execution_count": 30,
   "metadata": {},
   "outputs": [
    {
     "data": {
      "text/plain": [
       "{'C': 0.1,\n",
       " 'class_weight': None,\n",
       " 'dual': False,\n",
       " 'fit_intercept': True,\n",
       " 'intercept_scaling': 1,\n",
       " 'l1_ratio': None,\n",
       " 'max_iter': 100,\n",
       " 'multi_class': 'auto',\n",
       " 'n_jobs': None,\n",
       " 'penalty': 'l2',\n",
       " 'random_state': 0,\n",
       " 'solver': 'liblinear',\n",
       " 'tol': 0.0001,\n",
       " 'verbose': 0,\n",
       " 'warm_start': False}"
      ]
     },
     "execution_count": 30,
     "metadata": {},
     "output_type": "execute_result"
    }
   ],
   "source": [
    "clf_log.best_estimator_.get_params()"
   ]
  },
  {
   "cell_type": "code",
   "execution_count": 125,
   "metadata": {},
   "outputs": [
    {
     "name": "stdout",
     "output_type": "stream",
     "text": [
      "Training time: 0.480038s; Prediction time: 0.480038s\n",
      "              precision    recall  f1-score   support\n",
      "\n",
      "           0       0.82      0.82      0.82      2998\n",
      "           1       0.82      0.82      0.82      2981\n",
      "\n",
      "    accuracy                           0.82      5979\n",
      "   macro avg       0.82      0.82      0.82      5979\n",
      "weighted avg       0.82      0.82      0.82      5979\n",
      "\n",
      "Confusion Matrix\n",
      "[[2451  547]\n",
      " [ 529 2452]]\n"
     ]
    },
    {
     "data": {
      "image/png": "[encoded data removed]",
      "text/plain": [
       "<Figure size 432x288 with 1 Axes>"
      ]
     },
     "metadata": {
      "needs_background": "light"
     },
     "output_type": "display_data"
    }
   ],
   "source": [
    "best_clf_log = LogisticRegression(C= 0.1, class_weight = None, dual= False,fit_intercept= True,\n",
    "                                     intercept_scaling = 1, l1_ratio = None, max_iter = 100,\n",
    "                                      multi_class = 'auto',penalty='l2', random_state = 0,\n",
    "                                      solver = 'liblinear',tol =0.0001,verbose = 0,warm_start= False )\n",
    "metrics(best_clf_log, train_X_bow, test_X_bow, train_y_bow, test_y_bow, \"Logistic Regression with bag of words : Best model\")\n"
   ]
  },
  {
   "cell_type": "markdown",
   "metadata": {
    "colab_type": "text",
    "id": "fFyXqDiZ43DD"
   },
   "source": [
    "### 3.1.3 Logistic Regression with tf-idf"
   ]
  },
  {
   "cell_type": "code",
   "execution_count": 39,
   "metadata": {
    "colab": {},
    "colab_type": "code",
    "id": "huLIrLZv43DE",
    "outputId": "5b24eb67-f991-4956-e5fd-c9d28d5aecff"
   },
   "outputs": [
    {
     "name": "stdout",
     "output_type": "stream",
     "text": [
      "Training time: 0.201017s; Prediction time: 0.201017s\n",
      "              precision    recall  f1-score   support\n",
      "\n",
      "           0       0.85      0.85      0.85      2485\n",
      "           1       0.85      0.85      0.85      2497\n",
      "\n",
      "    accuracy                           0.85      4982\n",
      "   macro avg       0.85      0.85      0.85      4982\n",
      "weighted avg       0.85      0.85      0.85      4982\n",
      "\n",
      "Confusion Matrix\n",
      "[[2119  366]\n",
      " [ 380 2117]]\n"
     ]
    },
    {
     "data": {
      "image/png": "[encoded data removed]",
      "text/plain": [
       "<Figure size 432x288 with 1 Axes>"
      ]
     },
     "metadata": {
      "needs_background": "light"
     },
     "output_type": "display_data"
    }
   ],
   "source": [
    "metrics(logit_clf, train_X_tfidf, test_X_tfidf, train_y_tfidf, test_y_tfidf , \" Logistic Regression with tf-idf\")"
   ]
  },
  {
   "cell_type": "markdown",
   "metadata": {},
   "source": [
    "### 3.1.4 Logistic Regression withtf-idf Gird search CV "
   ]
  },
  {
   "cell_type": "code",
   "execution_count": 18,
   "metadata": {},
   "outputs": [],
   "source": [
    "hyperparameters = dict(C = [1e-4, 1e-3, 1e-2, 1e-1, 1e0, 1e1, 1e2, 1e3, 1e4], \n",
    "                       penalty = ['l2','l1',None],\n",
    "                       solver = ['sag', 'saga','liblinear','newton-cg']\n",
    "                      )"
   ]
  },
  {
   "cell_type": "code",
   "execution_count": 19,
   "metadata": {},
   "outputs": [
    {
     "name": "stderr",
     "output_type": "stream",
     "text": [
      "[Parallel(n_jobs=-1)]: Using backend LokyBackend with 8 concurrent workers.\n"
     ]
    },
    {
     "name": "stdout",
     "output_type": "stream",
     "text": [
      "Fitting 5 folds for each of 108 candidates, totalling 540 fits\n"
     ]
    },
    {
     "name": "stderr",
     "output_type": "stream",
     "text": [
      "[Parallel(n_jobs=-1)]: Done  34 tasks      | elapsed:    3.8s\n",
      "[Parallel(n_jobs=-1)]: Done 302 tasks      | elapsed:   12.6s\n",
      "[Parallel(n_jobs=-1)]: Done 540 out of 540 | elapsed:  3.2min finished\n"
     ]
    }
   ],
   "source": [
    "clf_log_gscv_tfidf = GridSearchCV(logit_clf, hyperparameters, cv=5, verbose=True, n_jobs=-1)\n",
    "clf_log_tfidf = clf_log_gscv_tfidf.fit(train_X_tfidf,train_y_tfidf)"
   ]
  },
  {
   "cell_type": "code",
   "execution_count": 34,
   "metadata": {},
   "outputs": [
    {
     "data": {
      "text/plain": [
       "{'C': 0.1,\n",
       " 'class_weight': None,\n",
       " 'dual': False,\n",
       " 'fit_intercept': True,\n",
       " 'intercept_scaling': 1,\n",
       " 'l1_ratio': None,\n",
       " 'max_iter': 100,\n",
       " 'multi_class': 'auto',\n",
       " 'n_jobs': None,\n",
       " 'penalty': 'l2',\n",
       " 'random_state': 0,\n",
       " 'solver': 'liblinear',\n",
       " 'tol': 0.0001,\n",
       " 'verbose': 0,\n",
       " 'warm_start': False}"
      ]
     },
     "execution_count": 34,
     "metadata": {},
     "output_type": "execute_result"
    }
   ],
   "source": [
    "clf_log_tfidf.best_estimator_.get_params()"
   ]
  },
  {
   "cell_type": "code",
   "execution_count": 41,
   "metadata": {},
   "outputs": [
    {
     "name": "stdout",
     "output_type": "stream",
     "text": [
      "Training time: 0.307023s; Prediction time: 0.307023s\n",
      "              precision    recall  f1-score   support\n",
      "\n",
      "           0       0.85      0.85      0.85      2485\n",
      "           1       0.85      0.85      0.85      2497\n",
      "\n",
      "    accuracy                           0.85      4982\n",
      "   macro avg       0.85      0.85      0.85      4982\n",
      "weighted avg       0.85      0.85      0.85      4982\n",
      "\n",
      "Confusion Matrix\n",
      "[[2119  366]\n",
      " [ 381 2116]]\n"
     ]
    },
    {
     "data": {
      "image/png": "[encoded data removed]",
      "text/plain": [
       "<Figure size 432x288 with 1 Axes>"
      ]
     },
     "metadata": {
      "needs_background": "light"
     },
     "output_type": "display_data"
    }
   ],
   "source": [
    "best_clf_log = LogisticRegression(C= 1, class_weight = None, dual= False,fit_intercept= True,\n",
    "                                     intercept_scaling = 1, l1_ratio = None, max_iter = 100,\n",
    "                                      multi_class = 'auto',penalty='l2', random_state = 0,\n",
    "                                      solver = 'saga',tol =0.0001,verbose = 0,warm_start= False )\n",
    "metrics(best_clf_log, train_X_tfidf, test_X_tfidf, train_y_tfidf, test_y_tfidf,\" Logistic Regression with tf-idf : Best model\" )"
   ]
  },
  {
   "cell_type": "markdown",
   "metadata": {
    "colab_type": "text",
    "id": "-YFFSANo43DG"
   },
   "source": [
    "### 3.1.5 Logistic Regression with bigram"
   ]
  },
  {
   "cell_type": "code",
   "execution_count": 43,
   "metadata": {
    "colab": {},
    "colab_type": "code",
    "id": "QbhVSEdx43DH",
    "outputId": "502a9810-38dd-4508-fbc2-93ceddb0fe0a"
   },
   "outputs": [
    {
     "name": "stdout",
     "output_type": "stream",
     "text": [
      "Training time: 5.323397s; Prediction time: 5.323397s\n",
      "              precision    recall  f1-score   support\n",
      "\n",
      "           0       0.79      0.73      0.76      2998\n",
      "           1       0.75      0.80      0.77      2981\n",
      "\n",
      "    accuracy                           0.77      5979\n",
      "   macro avg       0.77      0.77      0.77      5979\n",
      "weighted avg       0.77      0.77      0.77      5979\n",
      "\n",
      "Confusion Matrix\n",
      "[[2184  814]\n",
      " [ 586 2395]]\n"
     ]
    },
    {
     "data": {
      "image/png": "[encoded data removed]",
      "text/plain": [
       "<Figure size 432x288 with 1 Axes>"
      ]
     },
     "metadata": {
      "needs_background": "light"
     },
     "output_type": "display_data"
    }
   ],
   "source": [
    "metrics(logit_clf, train_X_bigram, test_X_bigram, train_y_bigram, test_y_bigram , \"Logistic Regression with bigram\")"
   ]
  },
  {
   "cell_type": "markdown",
   "metadata": {},
   "source": [
    "### 3.1.6 Logistic Regression with bigram  Gird search CV "
   ]
  },
  {
   "cell_type": "code",
   "execution_count": 42,
   "metadata": {},
   "outputs": [],
   "source": [
    "hyperparameters = dict(C = [1e-4, 1e-3, 1e-2, 1e-1, 1e0, 1e1, 1e2, 1e3, 1e4], \n",
    "                       penalty = ['l2','l1',None],\n",
    "                       solver = ['sag', 'saga','liblinear','newton-cg']\n",
    "                      )"
   ]
  },
  {
   "cell_type": "code",
   "execution_count": 43,
   "metadata": {},
   "outputs": [
    {
     "name": "stdout",
     "output_type": "stream",
     "text": [
      "Fitting 5 folds for each of 108 candidates, totalling 540 fits\n"
     ]
    },
    {
     "name": "stderr",
     "output_type": "stream",
     "text": [
      "[Parallel(n_jobs=-1)]: Using backend LokyBackend with 8 concurrent workers.\n",
      "[Parallel(n_jobs=-1)]: Done  34 tasks      | elapsed:    7.8s\n",
      "[Parallel(n_jobs=-1)]: Done 202 tasks      | elapsed:  1.5min\n",
      "[Parallel(n_jobs=-1)]: Done 452 tasks      | elapsed: 44.0min\n",
      "[Parallel(n_jobs=-1)]: Done 540 out of 540 | elapsed: 107.3min finished\n"
     ]
    }
   ],
   "source": [
    "clf_log_gscv_bigram = GridSearchCV(logit_clf, hyperparameters, cv=5, verbose=True, n_jobs=-1)\n",
    "clf_log_bigram = clf_log_gscv_bigram.fit(train_X_bigram,train_y_bigram)"
   ]
  },
  {
   "cell_type": "code",
   "execution_count": 46,
   "metadata": {},
   "outputs": [
    {
     "data": {
      "text/plain": [
       "{'C': 10.0,\n",
       " 'class_weight': None,\n",
       " 'dual': False,\n",
       " 'fit_intercept': True,\n",
       " 'intercept_scaling': 1,\n",
       " 'l1_ratio': None,\n",
       " 'max_iter': 100,\n",
       " 'multi_class': 'auto',\n",
       " 'n_jobs': None,\n",
       " 'penalty': 'l2',\n",
       " 'random_state': 0,\n",
       " 'solver': 'newton-cg',\n",
       " 'tol': 0.0001,\n",
       " 'verbose': 0,\n",
       " 'warm_start': False}"
      ]
     },
     "execution_count": 46,
     "metadata": {},
     "output_type": "execute_result"
    }
   ],
   "source": [
    "clf_log_bigram.best_estimator_.get_params()"
   ]
  },
  {
   "cell_type": "code",
   "execution_count": 44,
   "metadata": {},
   "outputs": [
    {
     "name": "stdout",
     "output_type": "stream",
     "text": [
      "Training time: 7.894587s; Prediction time: 7.894587s\n",
      "              precision    recall  f1-score   support\n",
      "\n",
      "           0       0.78      0.75      0.76      2998\n",
      "           1       0.75      0.79      0.77      2981\n",
      "\n",
      "    accuracy                           0.77      5979\n",
      "   macro avg       0.77      0.77      0.77      5979\n",
      "weighted avg       0.77      0.77      0.77      5979\n",
      "\n",
      "Confusion Matrix\n",
      "[[2234  764]\n",
      " [ 635 2346]]\n"
     ]
    },
    {
     "data": {
      "image/png": "[encoded data removed]",
      "text/plain": [
       "<Figure size 432x288 with 1 Axes>"
      ]
     },
     "metadata": {
      "needs_background": "light"
     },
     "output_type": "display_data"
    }
   ],
   "source": [
    "best_clf_log_bigram = LogisticRegression(C= 10, class_weight = None, dual= False,fit_intercept= True,\n",
    "                                     intercept_scaling = 1, l1_ratio = None, max_iter = 100,\n",
    "                                      multi_class = 'auto',penalty='l2', random_state = 0,\n",
    "                                      solver = 'newton-cg',tol =0.0001,verbose = 0,warm_start= False )\n",
    "metrics(best_clf_log_bigram, train_X_bigram, test_X_bigram, train_y_bigram, test_y_bigram,\"Logistic Regression with bigram : Best Model\")"
   ]
  },
  {
   "cell_type": "markdown",
   "metadata": {
    "colab_type": "text",
    "id": "s4Jpm4zt43DK"
   },
   "source": [
    "## 3.2 SVM"
   ]
  },
  {
   "cell_type": "code",
   "execution_count": 126,
   "metadata": {
    "colab": {},
    "colab_type": "code",
    "id": "E3wkKb-T43DK"
   },
   "outputs": [],
   "source": [
    "svm_clf = svm.SVC(kernel='linear',probability = True)"
   ]
  },
  {
   "cell_type": "markdown",
   "metadata": {
    "colab_type": "text",
    "id": "mbbcwh5t43DN"
   },
   "source": [
    "### 3.2.1 SVM with bag of words"
   ]
  },
  {
   "cell_type": "code",
   "execution_count": 49,
   "metadata": {
    "colab": {},
    "colab_type": "code",
    "id": "FtWIExkI43DN",
    "outputId": "a269f5e3-e829-4817-8cee-bb836eb2ebe7"
   },
   "outputs": [
    {
     "name": "stdout",
     "output_type": "stream",
     "text": [
      "Training time: 312.501804s; Prediction time: 312.501804s\n",
      "              precision    recall  f1-score   support\n",
      "\n",
      "           0       0.79      0.78      0.78      2998\n",
      "           1       0.78      0.79      0.78      2981\n",
      "\n",
      "    accuracy                           0.78      5979\n",
      "   macro avg       0.78      0.78      0.78      5979\n",
      "weighted avg       0.78      0.78      0.78      5979\n",
      "\n",
      "Confusion Matrix\n",
      "[[2349  649]\n",
      " [ 639 2342]]\n"
     ]
    },
    {
     "data": {
      "image/png": "[encoded data removed]",
      "text/plain": [
       "<Figure size 432x288 with 1 Axes>"
      ]
     },
     "metadata": {
      "needs_background": "light"
     },
     "output_type": "display_data"
    }
   ],
   "source": [
    "metrics(svm_clf, train_X_bow, test_X_bow, train_y_bow, test_y_bow,\"SVM with bag of words\" )"
   ]
  },
  {
   "cell_type": "markdown",
   "metadata": {},
   "source": [
    "### 3.2.2 SVM with BOW GSCV "
   ]
  },
  {
   "cell_type": "code",
   "execution_count": 23,
   "metadata": {},
   "outputs": [
    {
     "data": {
      "text/plain": [
       "{'C': 1.0,\n",
       " 'break_ties': False,\n",
       " 'cache_size': 200,\n",
       " 'class_weight': None,\n",
       " 'coef0': 0.0,\n",
       " 'decision_function_shape': 'ovr',\n",
       " 'degree': 3,\n",
       " 'gamma': 'scale',\n",
       " 'kernel': 'linear',\n",
       " 'max_iter': -1,\n",
       " 'probability': False,\n",
       " 'random_state': None,\n",
       " 'shrinking': True,\n",
       " 'tol': 0.001,\n",
       " 'verbose': False}"
      ]
     },
     "execution_count": 23,
     "metadata": {},
     "output_type": "execute_result"
    }
   ],
   "source": [
    "svm_clf.get_params()"
   ]
  },
  {
   "cell_type": "code",
   "execution_count": 24,
   "metadata": {},
   "outputs": [],
   "source": [
    "hyperparam_svm = {'C': [0.1,1, 10, 100], \n",
    "                  'gamma': [1,0.1,0.01,0.001],\n",
    "                  'kernel': ['rbf', 'poly', 'sigmoid','linear'],\n",
    "                   'decision_function_shape': ['ovr','ovo']\n",
    "                  }"
   ]
  },
  {
   "cell_type": "code",
   "execution_count": 25,
   "metadata": {},
   "outputs": [
    {
     "name": "stdout",
     "output_type": "stream",
     "text": [
      "Fitting 5 folds for each of 128 candidates, totalling 640 fits\n"
     ]
    },
    {
     "name": "stderr",
     "output_type": "stream",
     "text": [
      "[Parallel(n_jobs=-1)]: Using backend LokyBackend with 8 concurrent workers.\n",
      "[Parallel(n_jobs=-1)]: Done  34 tasks      | elapsed:  8.1min\n",
      "[Parallel(n_jobs=-1)]: Done 184 tasks      | elapsed: 42.7min\n",
      "[Parallel(n_jobs=-1)]: Done 434 tasks      | elapsed: 106.1min\n",
      "[Parallel(n_jobs=-1)]: Done 640 out of 640 | elapsed: 158.8min finished\n"
     ]
    }
   ],
   "source": [
    "clf_svm_bow_gscv = GridSearchCV(svm.SVC(), hyperparam_svm, cv=5, verbose=True, n_jobs=-1)\n",
    "clf_svm_bow = clf_svm_bow_gscv.fit(train_X_bow,train_y_bow)"
   ]
  },
  {
   "cell_type": "code",
   "execution_count": 28,
   "metadata": {},
   "outputs": [
    {
     "data": {
      "text/plain": [
       "{'C': 10, 'decision_function_shape': 'ovr', 'gamma': 0.001, 'kernel': 'rbf'}"
      ]
     },
     "execution_count": 28,
     "metadata": {},
     "output_type": "execute_result"
    }
   ],
   "source": [
    "clf_svm_bow.best_params_"
   ]
  },
  {
   "cell_type": "code",
   "execution_count": 51,
   "metadata": {},
   "outputs": [
    {
     "name": "stdout",
     "output_type": "stream",
     "text": [
      "Training time: 219.168597s; Prediction time: 219.168597s\n",
      "              precision    recall  f1-score   support\n",
      "\n",
      "           0       0.82      0.82      0.82      2998\n",
      "           1       0.82      0.82      0.82      2981\n",
      "\n",
      "    accuracy                           0.82      5979\n",
      "   macro avg       0.82      0.82      0.82      5979\n",
      "weighted avg       0.82      0.82      0.82      5979\n",
      "\n",
      "Confusion Matrix\n",
      "[[2451  547]\n",
      " [ 537 2444]]\n"
     ]
    },
    {
     "data": {
      "image/png": "[encoded data removed]",
      "text/plain": [
       "<Figure size 432x288 with 1 Axes>"
      ]
     },
     "metadata": {
      "needs_background": "light"
     },
     "output_type": "display_data"
    }
   ],
   "source": [
    "svm_clf_best = svm.SVC(C=10, gamma =  0.001, kernel = 'rbf', probability = True)\n",
    "metrics(svm_clf_best, train_X_bow, test_X_bow, train_y_bow, test_y_bow ,\"SVM with bag of words : Best model\")"
   ]
  },
  {
   "cell_type": "markdown",
   "metadata": {
    "colab_type": "text",
    "id": "R4ro21lC43DP"
   },
   "source": [
    "### 3.2.3 SVM with tfidf"
   ]
  },
  {
   "cell_type": "code",
   "execution_count": 53,
   "metadata": {
    "colab": {},
    "colab_type": "code",
    "id": "54oJimpy43DQ",
    "outputId": "72b8cfd5-9b42-4e53-93d9-ed3864c5c227"
   },
   "outputs": [
    {
     "name": "stdout",
     "output_type": "stream",
     "text": [
      "Training time: 342.244439s; Prediction time: 342.244439s\n",
      "              precision    recall  f1-score   support\n",
      "\n",
      "           0       0.85      0.85      0.85      2485\n",
      "           1       0.85      0.85      0.85      2497\n",
      "\n",
      "    accuracy                           0.85      4982\n",
      "   macro avg       0.85      0.85      0.85      4982\n",
      "weighted avg       0.85      0.85      0.85      4982\n",
      "\n",
      "Confusion Matrix\n",
      "[[2102  383]\n",
      " [ 373 2124]]\n"
     ]
    },
    {
     "data": {
      "image/png": "[encoded data removed]",
      "text/plain": [
       "<Figure size 432x288 with 1 Axes>"
      ]
     },
     "metadata": {
      "needs_background": "light"
     },
     "output_type": "display_data"
    }
   ],
   "source": [
    "metrics(svm_clf, train_X_tfidf, test_X_tfidf, train_y_tfidf, test_y_tfidf, \"SVM with tf-idf\")\n"
   ]
  },
  {
   "cell_type": "markdown",
   "metadata": {},
   "source": [
    "### 3.2.4 SVM with tfidf Grid search CV"
   ]
  },
  {
   "cell_type": "code",
   "execution_count": 23,
   "metadata": {},
   "outputs": [],
   "source": [
    "hyperparam_svm = {'C': [0.1,1, 10, 100], \n",
    "                  'gamma': [1,0.1,0.01,0.001],\n",
    "                  'kernel': ['rbf', 'poly', 'sigmoid','linear'],\n",
    "                   'decision_function_shape': ['ovr','ovo']\n",
    "                  }"
   ]
  },
  {
   "cell_type": "code",
   "execution_count": 26,
   "metadata": {
    "scrolled": true
   },
   "outputs": [
    {
     "name": "stdout",
     "output_type": "stream",
     "text": [
      "Fitting 5 folds for each of 128 candidates, totalling 640 fits\n"
     ]
    },
    {
     "name": "stderr",
     "output_type": "stream",
     "text": [
      "[Parallel(n_jobs=-1)]: Using backend LokyBackend with 8 concurrent workers.\n",
      "[Parallel(n_jobs=-1)]: Done  34 tasks      | elapsed: 15.1min\n",
      "[Parallel(n_jobs=-1)]: Done 184 tasks      | elapsed: 74.6min\n",
      "[Parallel(n_jobs=-1)]: Done 434 tasks      | elapsed: 190.4min\n",
      "[Parallel(n_jobs=-1)]: Done 640 out of 640 | elapsed: 290.1min finished\n"
     ]
    }
   ],
   "source": [
    "svm_clf = svm.SVC()\n",
    "clf_svm_tfidf_gscv = GridSearchCV(svm_clf, hyperparam_svm, cv=5, verbose=True, n_jobs=-1)\n",
    "clf_svm_tfidf = clf_svm_tfidf_gscv.fit(train_X_tfidf,train_y_tfidf)"
   ]
  },
  {
   "cell_type": "code",
   "execution_count": 28,
   "metadata": {},
   "outputs": [
    {
     "data": {
      "text/plain": [
       "{'C': 100, 'decision_function_shape': 'ovr', 'gamma': 1, 'kernel': 'rbf'}"
      ]
     },
     "execution_count": 28,
     "metadata": {},
     "output_type": "execute_result"
    }
   ],
   "source": [
    "clf_svm_tfidf.best_params_"
   ]
  },
  {
   "cell_type": "code",
   "execution_count": 55,
   "metadata": {},
   "outputs": [
    {
     "name": "stdout",
     "output_type": "stream",
     "text": [
      "Training time: 1665.945618s; Prediction time: 1665.945618s\n",
      "              precision    recall  f1-score   support\n",
      "\n",
      "           0       0.86      0.86      0.86      2485\n",
      "           1       0.86      0.86      0.86      2497\n",
      "\n",
      "    accuracy                           0.86      4982\n",
      "   macro avg       0.86      0.86      0.86      4982\n",
      "weighted avg       0.86      0.86      0.86      4982\n",
      "\n",
      "Confusion Matrix\n",
      "[[2128  357]\n",
      " [ 355 2142]]\n"
     ]
    },
    {
     "data": {
      "image/png": "[encoded data removed]",
      "text/plain": [
       "<Figure size 432x288 with 1 Axes>"
      ]
     },
     "metadata": {
      "needs_background": "light"
     },
     "output_type": "display_data"
    }
   ],
   "source": [
    "svm_clf_tfdif = svm.SVC(C=100, gamma =  1, kernel = 'rbf',probability = True)\n",
    "metrics(svm_clf_tfdif, train_X_tfidf, test_X_tfidf, train_y_tfidf, test_y_tfidf, \"SVM with tf-idf : Best Model\")"
   ]
  },
  {
   "cell_type": "markdown",
   "metadata": {
    "colab_type": "text",
    "id": "ckx2wUU143DS"
   },
   "source": [
    "### 3.2.5 SVM with bigram"
   ]
  },
  {
   "cell_type": "code",
   "execution_count": 128,
   "metadata": {
    "colab": {},
    "colab_type": "code",
    "id": "GXSdJg9y43DS",
    "outputId": "9ba6dfde-2321-441e-a53a-b1ac0acdb487"
   },
   "outputs": [
    {
     "name": "stdout",
     "output_type": "stream",
     "text": [
      "Training time: 1659.003528s; Prediction time: 1659.003528s\n",
      "              precision    recall  f1-score   support\n",
      "\n",
      "           0       0.78      0.74      0.76      2998\n",
      "           1       0.75      0.79      0.77      2981\n",
      "\n",
      "    accuracy                           0.76      5979\n",
      "   macro avg       0.76      0.76      0.76      5979\n",
      "weighted avg       0.76      0.76      0.76      5979\n",
      "\n",
      "Confusion Matrix\n",
      "[[2206  792]\n",
      " [ 638 2343]]\n"
     ]
    },
    {
     "data": {
      "image/png": "[encoded data removed]",
      "text/plain": [
       "<Figure size 432x288 with 1 Axes>"
      ]
     },
     "metadata": {
      "needs_background": "light"
     },
     "output_type": "display_data"
    }
   ],
   "source": [
    "metrics(svm_clf, train_X_bigram, test_X_bigram, train_y_bigram, test_y_bigram,\"SVM with Bigram\")"
   ]
  },
  {
   "cell_type": "markdown",
   "metadata": {},
   "source": [
    "### 3.2.6 SVM with bigram Grid Seach CV"
   ]
  },
  {
   "cell_type": "code",
   "execution_count": 24,
   "metadata": {},
   "outputs": [],
   "source": [
    "hyperparam_svm = {'C': [0.1,1, 10, 100], \n",
    "                  'gamma': [1,0.1,0.01,0.001],\n",
    "                  'kernel': ['rbf', 'poly', 'sigmoid','linear'],\n",
    "                   'decision_function_shape': ['ovr','ovo']\n",
    "                 }"
   ]
  },
  {
   "cell_type": "code",
   "execution_count": 25,
   "metadata": {},
   "outputs": [
    {
     "name": "stdout",
     "output_type": "stream",
     "text": [
      "Fitting 5 folds for each of 128 candidates, totalling 640 fits\n"
     ]
    },
    {
     "name": "stderr",
     "output_type": "stream",
     "text": [
      "[Parallel(n_jobs=-1)]: Using backend LokyBackend with 8 concurrent workers.\n",
      "[Parallel(n_jobs=-1)]: Done  34 tasks      | elapsed: 20.0min\n",
      "[Parallel(n_jobs=-1)]: Done 184 tasks      | elapsed: 90.0min\n",
      "[Parallel(n_jobs=-1)]: Done 434 tasks      | elapsed: 231.4min\n",
      "[Parallel(n_jobs=-1)]: Done 640 out of 640 | elapsed: 368.1min finished\n"
     ]
    }
   ],
   "source": [
    "svm_clf = svm.SVC()\n",
    "clf_svm_bigram_gscv = GridSearchCV(svm_clf, hyperparam_svm, cv=5, verbose=True, n_jobs=-1)\n",
    "clf_svm_bigram = clf_svm_bigram_gscv.fit(train_X_bigram,train_y_bigram)"
   ]
  },
  {
   "cell_type": "code",
   "execution_count": 27,
   "metadata": {},
   "outputs": [
    {
     "data": {
      "text/plain": [
       "{'C': 100, 'decision_function_shape': 'ovr', 'gamma': 0.001, 'kernel': 'rbf'}"
      ]
     },
     "execution_count": 27,
     "metadata": {},
     "output_type": "execute_result"
    }
   ],
   "source": [
    "clf_svm_bigram.best_params_"
   ]
  },
  {
   "cell_type": "code",
   "execution_count": 127,
   "metadata": {},
   "outputs": [
    {
     "name": "stdout",
     "output_type": "stream",
     "text": [
      "Training time: 1109.119851s; Prediction time: 1109.119851s\n",
      "              precision    recall  f1-score   support\n",
      "\n",
      "           0       0.76      0.75      0.76      2998\n",
      "           1       0.75      0.77      0.76      2981\n",
      "\n",
      "    accuracy                           0.76      5979\n",
      "   macro avg       0.76      0.76      0.76      5979\n",
      "weighted avg       0.76      0.76      0.76      5979\n",
      "\n",
      "Confusion Matrix\n",
      "[[2252  746]\n",
      " [ 698 2283]]\n"
     ]
    },
    {
     "data": {
      "image/png": "[encoded data removed]",
      "text/plain": [
       "<Figure size 432x288 with 1 Axes>"
      ]
     },
     "metadata": {
      "needs_background": "light"
     },
     "output_type": "display_data"
    }
   ],
   "source": [
    "svm_clf_bigram= svm.SVC(C=100, gamma = 0.01, kernel = 'rbf' , probability = True)\n",
    "metrics(svm_clf_bigram, train_X_bigram, test_X_bigram, train_y_bigram, test_y_bigram,\"SVM with Bigram : Best Model\")"
   ]
  },
  {
   "cell_type": "markdown",
   "metadata": {
    "colab_type": "text",
    "id": "jWGk9BO543DU"
   },
   "source": [
    "## 3.3 Random Forest"
   ]
  },
  {
   "cell_type": "code",
   "execution_count": 130,
   "metadata": {
    "colab": {},
    "colab_type": "code",
    "id": "kwqLuNNX43DV"
   },
   "outputs": [],
   "source": [
    "rf_clf = RandomForestClassifier(random_state = 0)"
   ]
  },
  {
   "cell_type": "markdown",
   "metadata": {
    "colab_type": "text",
    "id": "v2EPeo9h43Dc"
   },
   "source": [
    "### 3.3.1 Random Forest with bag of words"
   ]
  },
  {
   "cell_type": "code",
   "execution_count": 131,
   "metadata": {
    "colab": {},
    "colab_type": "code",
    "id": "NXkuzXjb43Dd",
    "outputId": "f68aa67b-7f47-4874-ae99-c33e3e0b9157"
   },
   "outputs": [
    {
     "name": "stdout",
     "output_type": "stream",
     "text": [
      "Training time: 73.571950s; Prediction time: 73.571950s\n",
      "              precision    recall  f1-score   support\n",
      "\n",
      "           0       0.78      0.84      0.81      2998\n",
      "           1       0.83      0.76      0.79      2981\n",
      "\n",
      "    accuracy                           0.80      5979\n",
      "   macro avg       0.80      0.80      0.80      5979\n",
      "weighted avg       0.80      0.80      0.80      5979\n",
      "\n",
      "Confusion Matrix\n",
      "[[2531  467]\n",
      " [ 726 2255]]\n"
     ]
    },
    {
     "data": {
      "image/png": "[encoded data removed]",
      "text/plain": [
       "<Figure size 432x288 with 1 Axes>"
      ]
     },
     "metadata": {
      "needs_background": "light"
     },
     "output_type": "display_data"
    }
   ],
   "source": [
    "metrics(rf_clf, train_X_bow, test_X_bow, train_y_bow, test_y_bow, \"Random Forest with bag of words\")"
   ]
  },
  {
   "cell_type": "markdown",
   "metadata": {},
   "source": [
    "### 3.3.2 Random Forest with bag of words GridSearch CV"
   ]
  },
  {
   "cell_type": "code",
   "execution_count": 26,
   "metadata": {
    "colab": {
     "base_uri": "https://localhost:8080/",
     "height": 425
    },
    "colab_type": "code",
    "executionInfo": {
     "elapsed": 543390,
     "status": "ok",
     "timestamp": 1590604576037,
     "user": {
      "displayName": "Khaled Khaled",
      "photoUrl": "",
      "userId": "06285289414535233785"
     },
     "user_tz": 420
    },
    "id": "AN6KJ7ffZmqn",
    "outputId": "91a75cbb-a6ee-4091-d4f8-2e1d49de8b13"
   },
   "outputs": [
    {
     "name": "stdout",
     "output_type": "stream",
     "text": [
      "Fitting 3 folds for each of 1 candidates, totalling 3 fits\n"
     ]
    },
    {
     "name": "stderr",
     "output_type": "stream",
     "text": [
      "[Parallel(n_jobs=-1)]: Using backend LokyBackend with 2 concurrent workers.\n",
      "[Parallel(n_jobs=-1)]: Done   3 out of   3 | elapsed:  5.5min finished\n"
     ]
    },
    {
     "data": {
      "text/plain": [
       "GridSearchCV(cv=3, error_score=nan,\n",
       "             estimator=RandomForestClassifier(bootstrap=True, ccp_alpha=0.0,\n",
       "                                              class_weight=None,\n",
       "                                              criterion='gini', max_depth=None,\n",
       "                                              max_features='auto',\n",
       "                                              max_leaf_nodes=None,\n",
       "                                              max_samples=None,\n",
       "                                              min_impurity_decrease=0.0,\n",
       "                                              min_impurity_split=None,\n",
       "                                              min_samples_leaf=1,\n",
       "                                              min_samples_split=2,\n",
       "                                              min_weight_fraction_leaf=0.0,\n",
       "                                              n_estimators=100, n_jobs=None,\n",
       "                                              oob_score=False, random_state=0,\n",
       "                                              verbose=0, warm_start=False),\n",
       "             iid='deprecated', n_jobs=-1,\n",
       "             param_grid={'bootstrap': [False], 'criterion': ['entropy'],\n",
       "                         'max_depth': [500], 'min_samples_leaf': [1],\n",
       "                         'min_samples_split': [10], 'n_estimators': [500]},\n",
       "             pre_dispatch='2*n_jobs', refit=True, return_train_score=False,\n",
       "             scoring=None, verbose=2)"
      ]
     },
     "execution_count": 26,
     "metadata": {
      "tags": []
     },
     "output_type": "execute_result"
    }
   ],
   "source": [
    "# Final selected hyperparameters\n",
    "param_grid = {'bootstrap': [False],\n",
    "              'max_depth': [500],\n",
    "              'min_samples_split': [10],\n",
    "              'min_samples_leaf': [1],\n",
    "              'n_estimators': [500],\n",
    "              'criterion': [\"entropy\"],\n",
    "              }\n",
    "\n",
    "grid_random_forest_bow = GridSearchCV(estimator=rf_clf,param_grid=param_grid, cv = 3, verbose=2, n_jobs = -1)\n",
    "grid_random_forest_bow.fit(train_X_bow, train_y_bow.values.ravel())"
   ]
  },
  {
   "cell_type": "code",
   "execution_count": 27,
   "metadata": {
    "colab": {
     "base_uri": "https://localhost:8080/",
     "height": 85
    },
    "colab_type": "code",
    "executionInfo": {
     "elapsed": 540671,
     "status": "ok",
     "timestamp": 1590604577996,
     "user": {
      "displayName": "Khaled Khaled",
      "photoUrl": "",
      "userId": "06285289414535233785"
     },
     "user_tz": 420
    },
    "id": "NiupHVi2Zmrg",
    "outputId": "f76d2fa6-8781-4252-9421-6952b3370440"
   },
   "outputs": [
    {
     "name": "stdout",
     "output_type": "stream",
     "text": [
      "{'bootstrap': False, 'criterion': 'entropy', 'max_depth': 500, 'min_samples_leaf': 1, 'min_samples_split': 10, 'n_estimators': 500}\n",
      "\n",
      "\n",
      "Accuracy of random forest classifier (bow) on test set after adjusting hyperparameters: 0.82\n"
     ]
    }
   ],
   "source": [
    "print(grid_random_forest_bow.best_params_)\n",
    "print('\\n')\n",
    "print('Accuracy of random forest classifier (bow) on test set after adjusting hyperparameters: {:.2f}'.format(grid_random_forest_bow.score(test_X_bow, test_y_bow)))"
   ]
  },
  {
   "cell_type": "code",
   "execution_count": 21,
   "metadata": {},
   "outputs": [
    {
     "name": "stdout",
     "output_type": "stream",
     "text": [
      "Training time: 404.035502s; Prediction time: 404.035502s\n",
      "              precision    recall  f1-score   support\n",
      "\n",
      "           0       0.81      0.83      0.82      3000\n",
      "           1       0.83      0.80      0.81      2979\n",
      "\n",
      "    accuracy                           0.82      5979\n",
      "   macro avg       0.82      0.82      0.82      5979\n",
      "weighted avg       0.82      0.82      0.82      5979\n",
      "\n",
      "Confusion Matrix\n",
      "[[2493  507]\n",
      " [ 583 2396]]\n"
     ]
    },
    {
     "data": {
      "image/png": "[encoded data removed]",
      "text/plain": [
       "<Figure size 432x288 with 1 Axes>"
      ]
     },
     "metadata": {
      "needs_background": "light"
     },
     "output_type": "display_data"
    }
   ],
   "source": [
    "grid_random_forest_bow = RandomForestClassifier(random_state=0,bootstrap = False,\n",
    "                       max_depth = 500,\n",
    "                       min_samples_split = 10,\n",
    "                       n_estimators = 500,\n",
    "                       criterion = 'entropy')\n",
    "metrics(grid_random_forest_bow, train_X_bow, test_X_bow, train_y_bow, test_y_bow, \"Random Forest with bag of words : Best Model\")"
   ]
  },
  {
   "cell_type": "markdown",
   "metadata": {
    "colab_type": "text",
    "id": "HZjOG4EP43Dl"
   },
   "source": [
    "### 3.3.3 Random Forest with tfidf"
   ]
  },
  {
   "cell_type": "code",
   "execution_count": 133,
   "metadata": {
    "colab": {},
    "colab_type": "code",
    "id": "vAyvyyUi43Dm",
    "outputId": "b57d9af0-86e3-4384-9c83-6017d380ba2c"
   },
   "outputs": [
    {
     "name": "stdout",
     "output_type": "stream",
     "text": [
      "Training time: 30.603870s; Prediction time: 30.603870s\n",
      "              precision    recall  f1-score   support\n",
      "\n",
      "           0       0.79      0.83      0.81      2485\n",
      "           1       0.83      0.78      0.80      2497\n",
      "\n",
      "    accuracy                           0.81      4982\n",
      "   macro avg       0.81      0.81      0.81      4982\n",
      "weighted avg       0.81      0.81      0.81      4982\n",
      "\n",
      "Confusion Matrix\n",
      "[[2072  413]\n",
      " [ 537 1960]]\n"
     ]
    },
    {
     "data": {
      "image/png": "[encoded data removed]",
      "text/plain": [
       "<Figure size 432x288 with 1 Axes>"
      ]
     },
     "metadata": {
      "needs_background": "light"
     },
     "output_type": "display_data"
    }
   ],
   "source": [
    "metrics(rf_clf, train_X_tfidf, test_X_tfidf, train_y_tfidf, test_y_tfidf, \"Random Forest with tfidf\")"
   ]
  },
  {
   "cell_type": "markdown",
   "metadata": {},
   "source": [
    "### 3.3.4 Random Forest with tfidf gridsearch CV"
   ]
  },
  {
   "cell_type": "code",
   "execution_count": 33,
   "metadata": {
    "colab": {
     "base_uri": "https://localhost:8080/",
     "height": 425
    },
    "colab_type": "code",
    "executionInfo": {
     "elapsed": 1012212,
     "status": "ok",
     "timestamp": 1590605628680,
     "user": {
      "displayName": "Khaled Khaled",
      "photoUrl": "",
      "userId": "06285289414535233785"
     },
     "user_tz": 420
    },
    "id": "YHZM5BwlQjAI",
    "outputId": "3ca37138-7598-4f41-96e1-d711bcd838c6",
    "scrolled": true
   },
   "outputs": [
    {
     "name": "stdout",
     "output_type": "stream",
     "text": [
      "Fitting 3 folds for each of 1 candidates, totalling 3 fits\n"
     ]
    },
    {
     "name": "stderr",
     "output_type": "stream",
     "text": [
      "[Parallel(n_jobs=-1)]: Using backend LokyBackend with 2 concurrent workers.\n",
      "[Parallel(n_jobs=-1)]: Done   3 out of   3 | elapsed:  9.8min finished\n"
     ]
    },
    {
     "data": {
      "text/plain": [
       "GridSearchCV(cv=3, error_score=nan,\n",
       "             estimator=RandomForestClassifier(bootstrap=True, ccp_alpha=0.0,\n",
       "                                              class_weight=None,\n",
       "                                              criterion='gini', max_depth=None,\n",
       "                                              max_features='auto',\n",
       "                                              max_leaf_nodes=None,\n",
       "                                              max_samples=None,\n",
       "                                              min_impurity_decrease=0.0,\n",
       "                                              min_impurity_split=None,\n",
       "                                              min_samples_leaf=1,\n",
       "                                              min_samples_split=2,\n",
       "                                              min_weight_fraction_leaf=0.0,\n",
       "                                              n_estimators=100, n_jobs=None,\n",
       "                                              oob_score=False, random_state=0,\n",
       "                                              verbose=0, warm_start=False),\n",
       "             iid='deprecated', n_jobs=-1,\n",
       "             param_grid={'bootstrap': [False], 'criterion': ['entropy'],\n",
       "                         'max_depth': [500], 'min_samples_split': [10],\n",
       "                         'n_estimators': [1500]},\n",
       "             pre_dispatch='2*n_jobs', refit=True, return_train_score=False,\n",
       "             scoring=None, verbose=2)"
      ]
     },
     "execution_count": 33,
     "metadata": {
      "tags": []
     },
     "output_type": "execute_result"
    }
   ],
   "source": [
    "# Selecting the best hyperparameters\n",
    "param_grid = {'bootstrap': [False],\n",
    "              'max_depth': [500],\n",
    "              'min_samples_split': [10],\n",
    "              'n_estimators': [1500],\n",
    "              'criterion': [\"entropy\"]}\n",
    "\n",
    "grid_random_forest_tfidf = GridSearchCV(estimator=rf_clf,param_grid=param_grid, cv=3, verbose=2, n_jobs = -1)\n",
    "grid_random_forest_tfidf.fit(train_X_tfidf, train_y_tfidf.values.ravel())"
   ]
  },
  {
   "cell_type": "code",
   "execution_count": 34,
   "metadata": {
    "colab": {
     "base_uri": "https://localhost:8080/",
     "height": 85
    },
    "colab_type": "code",
    "executionInfo": {
     "elapsed": 1015314,
     "status": "ok",
     "timestamp": 1590605632464,
     "user": {
      "displayName": "Khaled Khaled",
      "photoUrl": "",
      "userId": "06285289414535233785"
     },
     "user_tz": 420
    },
    "id": "_Q_t38tk5nZx",
    "outputId": "57c4eb5e-9af9-4f9e-fe51-b49d3b0dc1e1",
    "scrolled": true
   },
   "outputs": [
    {
     "name": "stdout",
     "output_type": "stream",
     "text": [
      "{'bootstrap': False, 'criterion': 'entropy', 'max_depth': 500, 'min_samples_split': 10, 'n_estimators': 1500}\n",
      "\n",
      "\n",
      "Accuracy of random forest classifier (tfidf) on test set after adjusting hyperparameters: 0.83\n"
     ]
    }
   ],
   "source": [
    "print(grid_random_forest_tfidf.best_params_)\n",
    "print('\\n')\n",
    "print('Accuracy of random forest classifier (tfidf) on test set after adjusting hyperparameters: {:.2f}'.format(grid_random_forest_tfidf.score(test_X_tfidf, test_y_tfidf)))"
   ]
  },
  {
   "cell_type": "code",
   "execution_count": 22,
   "metadata": {},
   "outputs": [
    {
     "name": "stdout",
     "output_type": "stream",
     "text": [
      "Training time: 220.246690s; Prediction time: 220.246690s\n",
      "              precision    recall  f1-score   support\n",
      "\n",
      "           0       0.82      0.85      0.83      2450\n",
      "           1       0.85      0.82      0.83      2532\n",
      "\n",
      "    accuracy                           0.83      4982\n",
      "   macro avg       0.83      0.83      0.83      4982\n",
      "weighted avg       0.83      0.83      0.83      4982\n",
      "\n",
      "Confusion Matrix\n",
      "[[2089  361]\n",
      " [ 465 2067]]\n"
     ]
    },
    {
     "data": {
      "image/png": "[encoded data removed]",
      "text/plain": [
       "<Figure size 432x288 with 1 Axes>"
      ]
     },
     "metadata": {
      "needs_background": "light"
     },
     "output_type": "display_data"
    }
   ],
   "source": [
    "grid_random_forest_tfidf = RandomForestClassifier(random_state=0,bootstrap = False,\n",
    "                       max_depth = 500,\n",
    "                       min_samples_split = 10,\n",
    "                       n_estimators = 500,\n",
    "                       criterion = 'entropy')\n",
    "metrics(grid_random_forest_tfidf, train_X_tfidf, test_X_tfidf, train_y_tfidf, test_y_tfidf, \"Random Forest with tf-idf : Best Model\")"
   ]
  },
  {
   "cell_type": "markdown",
   "metadata": {
    "colab_type": "text",
    "id": "z38VrgA-43Do"
   },
   "source": [
    "### 3.3.5 Random Forest with bigram"
   ]
  },
  {
   "cell_type": "code",
   "execution_count": 134,
   "metadata": {
    "colab": {},
    "colab_type": "code",
    "id": "46VTG3M343Dp",
    "outputId": "d7b2e45d-3e2f-4796-e6e5-f0af66f9cbe8"
   },
   "outputs": [
    {
     "name": "stdout",
     "output_type": "stream",
     "text": [
      "Training time: 1343.783202s; Prediction time: 1343.783202s\n",
      "              precision    recall  f1-score   support\n",
      "\n",
      "           0       0.70      0.83      0.76      2998\n",
      "           1       0.79      0.64      0.71      2981\n",
      "\n",
      "    accuracy                           0.73      5979\n",
      "   macro avg       0.74      0.73      0.73      5979\n",
      "weighted avg       0.74      0.73      0.73      5979\n",
      "\n",
      "Confusion Matrix\n",
      "[[2493  505]\n",
      " [1082 1899]]\n"
     ]
    },
    {
     "data": {
      "image/png": "[encoded data removed]",
      "text/plain": [
       "<Figure size 432x288 with 1 Axes>"
      ]
     },
     "metadata": {
      "needs_background": "light"
     },
     "output_type": "display_data"
    }
   ],
   "source": [
    "metrics(rf_clf, train_X_bigram, test_X_bigram, train_y_bigram, test_y_bigram,\"Random Forest with bigram\")"
   ]
  },
  {
   "cell_type": "markdown",
   "metadata": {
    "colab": {},
    "colab_type": "code",
    "id": "nJ8xYQND43Dr"
   },
   "source": [
    "### 3.3.6 Random Forest with bigram gridsearch CV"
   ]
  },
  {
   "cell_type": "code",
   "execution_count": 136,
   "metadata": {},
   "outputs": [],
   "source": [
    "param_grid = {'bootstrap': [False],\n",
    "              'max_depth': [500],\n",
    "              'min_samples_split': [10],\n",
    "              'n_estimators': [500],\n",
    "              'criterion': [\"entropy\"]}\n",
    "\n",
    "grid_random_forest_bigram = RandomForestClassifier(random_state=0,\n",
    "                                                   bootstrap = False,\n",
    "                                                   max_depth = 500,\n",
    "                                                   min_samples_split = 10,\n",
    "                                                   n_estimators = 500,\n",
    "                                                   criterion = 'entropy')\n"
   ]
  },
  {
   "cell_type": "code",
   "execution_count": 25,
   "metadata": {},
   "outputs": [
    {
     "name": "stdout",
     "output_type": "stream",
     "text": [
      "Training time: 4902.613534s; Prediction time: 4902.613534s\n",
      "              precision    recall  f1-score   support\n",
      "\n",
      "           0       0.76      0.71      0.74      3000\n",
      "           1       0.73      0.78      0.75      2979\n",
      "\n",
      "    accuracy                           0.74      5979\n",
      "   macro avg       0.75      0.74      0.74      5979\n",
      "weighted avg       0.75      0.74      0.74      5979\n",
      "\n",
      "Confusion Matrix\n",
      "[[2139  861]\n",
      " [ 668 2311]]\n"
     ]
    },
    {
     "data": {
      "image/png": "[encoded data removed]",
      "text/plain": [
       "<Figure size 432x288 with 1 Axes>"
      ]
     },
     "metadata": {
      "needs_background": "light"
     },
     "output_type": "display_data"
    }
   ],
   "source": [
    "metrics(grid_random_forest_bigram, train_X_bigram, test_X_bigram, train_y_bigram, test_y_bigram, \"Random Forest with bigram : best model\")\n"
   ]
  },
  {
   "cell_type": "markdown",
   "metadata": {},
   "source": [
    "# Best model"
   ]
  },
  {
   "cell_type": "markdown",
   "metadata": {},
   "source": [
    "3.2.4 SVM with Tf-idf using hyperparameter tuning "
   ]
  }
 ],
 "metadata": {
  "colab": {
   "name": "Bax 453 Team Assignment Q2-3.ipynb",
   "provenance": []
  },
  "kernelspec": {
   "display_name": "Python 3",
   "language": "python",
   "name": "python3"
  },
  "language_info": {
   "codemirror_mode": {
    "name": "ipython",
    "version": 3
   },
   "file_extension": ".py",
   "mimetype": "text/x-python",
   "name": "python",
   "nbconvert_exporter": "python",
   "pygments_lexer": "ipython3",
   "version": "3.7.4"
  },
  "toc": {
   "base_numbering": 1,
   "nav_menu": {},
   "number_sections": false,
   "sideBar": true,
   "skip_h1_title": false,
   "title_cell": "Table of Contents",
   "title_sidebar": "Contents",
   "toc_cell": false,
   "toc_position": {
    "height": "calc(100% - 180px)",
    "left": "10px",
    "top": "150px",
    "width": "341.319px"
   },
   "toc_section_display": true,
   "toc_window_display": true
  }
 },
 "nbformat": 4,
 "nbformat_minor": 1
}
